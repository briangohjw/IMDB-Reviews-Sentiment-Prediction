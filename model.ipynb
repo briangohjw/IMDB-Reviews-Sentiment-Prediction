{
 "cells": [
  {
   "cell_type": "markdown",
   "metadata": {},
   "source": [
    "# Importing required packages"
   ]
  },
  {
   "cell_type": "code",
   "execution_count": 1,
   "metadata": {},
   "outputs": [
    {
     "name": "stderr",
     "output_type": "stream",
     "text": [
      "[nltk_data] Downloading package stopwords to\n",
      "[nltk_data]     C:\\Users\\User\\AppData\\Roaming\\nltk_data...\n",
      "[nltk_data]   Package stopwords is already up-to-date!\n",
      "[nltk_data] Downloading package wordnet to\n",
      "[nltk_data]     C:\\Users\\User\\AppData\\Roaming\\nltk_data...\n",
      "[nltk_data]   Package wordnet is already up-to-date!\n",
      "[nltk_data] Downloading package punkt to\n",
      "[nltk_data]     C:\\Users\\User\\AppData\\Roaming\\nltk_data...\n",
      "[nltk_data]   Package punkt is already up-to-date!\n"
     ]
    },
    {
     "data": {
      "text/plain": [
       "True"
      ]
     },
     "execution_count": 1,
     "metadata": {},
     "output_type": "execute_result"
    }
   ],
   "source": [
    "# File navigation\n",
    "import os\n",
    "\n",
    "# Measuring run time\n",
    "from time import time\n",
    "import pyprind\n",
    "from tqdm import tqdm\n",
    "\n",
    "# Data manipulation/analysis\n",
    "import csv\n",
    "import numpy as np\n",
    "import pandas as pd\n",
    "import seaborn as sns\n",
    "import matplotlib\n",
    "import matplotlib.pyplot as plt\n",
    "from itertools import islice\n",
    "%matplotlib inline\n",
    "\n",
    "# Modelling\n",
    "import tensorflow as tf\n",
    "from sklearn.metrics import classification_report\n",
    "\n",
    "# Data partitioning\n",
    "from sklearn.model_selection import train_test_split\n",
    "\n",
    "# Text preprocessing/analysis\n",
    "import io\n",
    "import re, random\n",
    "import nltk\n",
    "from nltk import word_tokenize, sent_tokenize, pos_tag\n",
    "from nltk.util import ngrams\n",
    "from nltk.corpus import stopwords\n",
    "from nltk.stem import WordNetLemmatizer\n",
    "from nltk.tokenize import RegexpTokenizer\n",
    "from sklearn.feature_extraction.text import TfidfVectorizer\n",
    "from gensim.models import Word2Vec\n",
    "from symspellpy import SymSpell, Verbosity\n",
    "\n",
    "tqdm.pandas()\n",
    "\n",
    "nltk.download('stopwords') \n",
    "nltk.download('wordnet')\n",
    "nltk.download('punkt')"
   ]
  },
  {
   "cell_type": "markdown",
   "metadata": {},
   "source": [
    "# Converting .txt files to .csv"
   ]
  },
  {
   "cell_type": "markdown",
   "metadata": {},
   "source": [
    "### Training Data"
   ]
  },
  {
   "cell_type": "code",
   "execution_count": 2,
   "metadata": {},
   "outputs": [
    {
     "name": "stderr",
     "output_type": "stream",
     "text": [
      "0% [###############               ] 100% | ETA: 00:04:02"
     ]
    }
   ],
   "source": [
    "labels = {'pos': 1, 'neg': 0}\n",
    "pbar = pyprind.ProgBar(50000) # progress bar\n",
    "train_df = pd.DataFrame()\n",
    "\n",
    "for y in ('pos', 'neg'):\n",
    "    path = f\"train/{y}\" # iterate through train folder, adding both pos and neg reviews to dataframe\n",
    "    for file in os.listdir(path):\n",
    "        with open(os.path.join(path, file), 'r', encoding='utf-8') as infile:\n",
    "            txt = infile.read()\n",
    "        train_df = train_df.append([[txt, labels[y]]], ignore_index=True) # add current review to dataframe\n",
    "        pbar.update()\n",
    "\n",
    "train_df.columns = ['review', 'sentiment'] # columns of csv file\n",
    "\n",
    "train_df.to_csv('train.csv', index=False, encoding='utf-8') # save combined training data to csv"
   ]
  },
  {
   "cell_type": "code",
   "execution_count": 3,
   "metadata": {},
   "outputs": [],
   "source": [
    "train_df = pd.read_csv(\"train.csv\")"
   ]
  },
  {
   "cell_type": "code",
   "execution_count": 4,
   "metadata": {},
   "outputs": [
    {
     "data": {
      "text/html": [
       "<div>\n",
       "<style scoped>\n",
       "    .dataframe tbody tr th:only-of-type {\n",
       "        vertical-align: middle;\n",
       "    }\n",
       "\n",
       "    .dataframe tbody tr th {\n",
       "        vertical-align: top;\n",
       "    }\n",
       "\n",
       "    .dataframe thead th {\n",
       "        text-align: right;\n",
       "    }\n",
       "</style>\n",
       "<table border=\"1\" class=\"dataframe\">\n",
       "  <thead>\n",
       "    <tr style=\"text-align: right;\">\n",
       "      <th></th>\n",
       "      <th>review</th>\n",
       "      <th>sentiment</th>\n",
       "    </tr>\n",
       "  </thead>\n",
       "  <tbody>\n",
       "    <tr>\n",
       "      <th>0</th>\n",
       "      <td>Bromwell High is a cartoon comedy. It ran at t...</td>\n",
       "      <td>1</td>\n",
       "    </tr>\n",
       "    <tr>\n",
       "      <th>1</th>\n",
       "      <td>Homelessness (or Houselessness as George Carli...</td>\n",
       "      <td>1</td>\n",
       "    </tr>\n",
       "    <tr>\n",
       "      <th>2</th>\n",
       "      <td>Brilliant over-acting by Lesley Ann Warren. Be...</td>\n",
       "      <td>1</td>\n",
       "    </tr>\n",
       "    <tr>\n",
       "      <th>3</th>\n",
       "      <td>This is easily the most underrated film inn th...</td>\n",
       "      <td>1</td>\n",
       "    </tr>\n",
       "    <tr>\n",
       "      <th>4</th>\n",
       "      <td>This is not the typical Mel Brooks film. It wa...</td>\n",
       "      <td>1</td>\n",
       "    </tr>\n",
       "  </tbody>\n",
       "</table>\n",
       "</div>"
      ],
      "text/plain": [
       "                                              review  sentiment\n",
       "0  Bromwell High is a cartoon comedy. It ran at t...          1\n",
       "1  Homelessness (or Houselessness as George Carli...          1\n",
       "2  Brilliant over-acting by Lesley Ann Warren. Be...          1\n",
       "3  This is easily the most underrated film inn th...          1\n",
       "4  This is not the typical Mel Brooks film. It wa...          1"
      ]
     },
     "execution_count": 4,
     "metadata": {},
     "output_type": "execute_result"
    }
   ],
   "source": [
    "train_df.head()"
   ]
  },
  {
   "cell_type": "markdown",
   "metadata": {},
   "source": [
    "### Test Data"
   ]
  },
  {
   "cell_type": "code",
   "execution_count": 5,
   "metadata": {},
   "outputs": [
    {
     "name": "stderr",
     "output_type": "stream",
     "text": [
      "0% [###############               ] 100% | ETA: 00:03:56"
     ]
    }
   ],
   "source": [
    "labels = {'pos': 1, 'neg': 0}\n",
    "pbar = pyprind.ProgBar(50000) # progress bar\n",
    "test_df = pd.DataFrame()\n",
    "\n",
    "for y in ('pos', 'neg'):\n",
    "    path = f\"test/{y}\" # iterate through test folder, adding both pos and neg reviews to dataframe\n",
    "    for file in os.listdir(path):\n",
    "        with open(os.path.join(path, file), 'r', encoding='utf-8') as infile:\n",
    "            txt = infile.read()\n",
    "        test_df = test_df.append([[txt, labels[y]]], ignore_index=True) # add current review to dataframe\n",
    "        pbar.update()\n",
    "\n",
    "test_df.columns = ['review', 'sentiment'] # columns of csv file\n",
    "\n",
    "test_df.to_csv('test.csv', index=False, encoding='utf-8') # save combined test data to csv"
   ]
  },
  {
   "cell_type": "code",
   "execution_count": 6,
   "metadata": {},
   "outputs": [],
   "source": [
    "test_df = pd.read_csv(\"test.csv\")"
   ]
  },
  {
   "cell_type": "code",
   "execution_count": 7,
   "metadata": {},
   "outputs": [
    {
     "data": {
      "text/html": [
       "<div>\n",
       "<style scoped>\n",
       "    .dataframe tbody tr th:only-of-type {\n",
       "        vertical-align: middle;\n",
       "    }\n",
       "\n",
       "    .dataframe tbody tr th {\n",
       "        vertical-align: top;\n",
       "    }\n",
       "\n",
       "    .dataframe thead th {\n",
       "        text-align: right;\n",
       "    }\n",
       "</style>\n",
       "<table border=\"1\" class=\"dataframe\">\n",
       "  <thead>\n",
       "    <tr style=\"text-align: right;\">\n",
       "      <th></th>\n",
       "      <th>review</th>\n",
       "      <th>sentiment</th>\n",
       "    </tr>\n",
       "  </thead>\n",
       "  <tbody>\n",
       "    <tr>\n",
       "      <th>0</th>\n",
       "      <td>I went and saw this movie last night after bei...</td>\n",
       "      <td>1</td>\n",
       "    </tr>\n",
       "    <tr>\n",
       "      <th>1</th>\n",
       "      <td>Actor turned director Bill Paxton follows up h...</td>\n",
       "      <td>1</td>\n",
       "    </tr>\n",
       "    <tr>\n",
       "      <th>2</th>\n",
       "      <td>As a recreational golfer with some knowledge o...</td>\n",
       "      <td>1</td>\n",
       "    </tr>\n",
       "    <tr>\n",
       "      <th>3</th>\n",
       "      <td>I saw this film in a sneak preview, and it is ...</td>\n",
       "      <td>1</td>\n",
       "    </tr>\n",
       "    <tr>\n",
       "      <th>4</th>\n",
       "      <td>Bill Paxton has taken the true story of the 19...</td>\n",
       "      <td>1</td>\n",
       "    </tr>\n",
       "  </tbody>\n",
       "</table>\n",
       "</div>"
      ],
      "text/plain": [
       "                                              review  sentiment\n",
       "0  I went and saw this movie last night after bei...          1\n",
       "1  Actor turned director Bill Paxton follows up h...          1\n",
       "2  As a recreational golfer with some knowledge o...          1\n",
       "3  I saw this film in a sneak preview, and it is ...          1\n",
       "4  Bill Paxton has taken the true story of the 19...          1"
      ]
     },
     "execution_count": 7,
     "metadata": {},
     "output_type": "execute_result"
    }
   ],
   "source": [
    "test_df.head()"
   ]
  },
  {
   "cell_type": "markdown",
   "metadata": {},
   "source": [
    "# Text Preprocessing"
   ]
  },
  {
   "cell_type": "markdown",
   "metadata": {},
   "source": [
    "## Preprocessing Functions"
   ]
  },
  {
   "cell_type": "code",
   "execution_count": 8,
   "metadata": {},
   "outputs": [],
   "source": [
    "# Strip trailing whitespaces\n",
    "def strip(text):\n",
    "    return text.strip()\n",
    "\n",
    "# Remove <br> html tags\n",
    "def remove_brs(text):\n",
    "    return text.replace('<br />', ' ').replace('<br />', ' ')\n",
    "\n",
    "# Remove duplicate consecutive whitespacves\n",
    "def remove_multi_spaces(text):\n",
    "    return \" \".join(text.split())\n",
    "\n",
    "# Convert text to a list of tokens\n",
    "def tokenize(text):\n",
    "    return nltk.tokenize.word_tokenize(text)\n",
    "\n",
    "# Keep alphabetical characters only\n",
    "def keep_text(text):\n",
    "    pattern = r'[^a-zA-z\\s]'\n",
    "    result = re.sub(pattern, ' ', text)\n",
    "    return result\n",
    "\n",
    "# Convert text to lower case\n",
    "def lower_case(text):\n",
    "    return text.lower()\n",
    "\n",
    "# lemmatise text to its stem (in dictionary)\n",
    "def lemmatize(text):\n",
    "    wn = nltk.WordNetLemmatizer()\n",
    "    result = wn.lemmatize(text)\n",
    "    return result\n",
    "\n",
    "# List of contractions\n",
    "contraction_dict = {\"ain't\": \"is not\", \"aren't\": \"are not\",\"can't\": \"cannot\", \"'cause\": \"because\", \"could've\": \"could have\", \"couldn't\": \"could not\", \"didn't\": \"did not\",  \"doesn't\": \"does not\", \"don't\": \"do not\", \"hadn't\": \"had not\", \"hasn't\": \"has not\", \"haven't\": \"have not\", \"he'd\": \"he would\",\"he'll\": \"he will\", \"he's\": \"he is\", \"how'd\": \"how did\", \"how'd'y\": \"how do you\", \"how'll\": \"how will\", \"how's\": \"how is\",  \"I'd\": \"I would\", \"I'd've\": \"I would have\", \"I'll\": \"I will\", \"I'll've\": \"I will have\",\"I'm\": \"I am\", \"I've\": \"I have\", \"i'd\": \"i would\", \"i'd've\": \"i would have\", \"i'll\": \"i will\",  \"i'll've\": \"i will have\",\"i'm\": \"i am\", \"i've\": \"i have\", \"isn't\": \"is not\", \"it'd\": \"it would\", \"it'd've\": \"it would have\", \"it'll\": \"it will\", \"it'll've\": \"it will have\",\"it's\": \"it is\", \"let's\": \"let us\", \"ma'am\": \"madam\", \"mayn't\": \"may not\", \"might've\": \"might have\",\"mightn't\": \"might not\",\"mightn't've\": \"might not have\", \"must've\": \"must have\", \"mustn't\": \"must not\", \"mustn't've\": \"must not have\", \"needn't\": \"need not\", \"needn't've\": \"need not have\",\"o'clock\": \"of the clock\", \"oughtn't\": \"ought not\", \"oughtn't've\": \"ought not have\", \"shan't\": \"shall not\", \"sha'n't\": \"shall not\", \"shan't've\": \"shall not have\", \"she'd\": \"she would\", \"she'd've\": \"she would have\", \"she'll\": \"she will\", \"she'll've\": \"she will have\", \"she's\": \"she is\", \"should've\": \"should have\", \"shouldn't\": \"should not\", \"shouldn't've\": \"should not have\", \"so've\": \"so have\",\"so's\": \"so as\", \"this's\": \"this is\",\"that'd\": \"that would\", \"that'd've\": \"that would have\", \"that's\": \"that is\", \"there'd\": \"there would\", \"there'd've\": \"there would have\", \"there's\": \"there is\", \"here's\": \"here is\",\"they'd\": \"they would\", \"they'd've\": \"they would have\", \"they'll\": \"they will\", \"they'll've\": \"they will have\", \"they're\": \"they are\", \"they've\": \"they have\", \"to've\": \"to have\", \"wasn't\": \"was not\", \"we'd\": \"we would\", \"we'd've\": \"we would have\", \"we'll\": \"we will\", \"we'll've\": \"we will have\", \"we're\": \"we are\", \"we've\": \"we have\", \"weren't\": \"were not\", \"what'll\": \"what will\", \"what'll've\": \"what will have\", \"what're\": \"what are\",  \"what's\": \"what is\", \"what've\": \"what have\", \"when's\": \"when is\", \"when've\": \"when have\", \"where'd\": \"where did\", \"where's\": \"where is\", \"where've\": \"where have\", \"who'll\": \"who will\", \"who'll've\": \"who will have\", \"who's\": \"who is\", \"who've\": \"who have\", \"why's\": \"why is\", \"why've\": \"why have\", \"will've\": \"will have\", \"won't\": \"will not\", \"won't've\": \"will not have\", \"would've\": \"would have\", \"wouldn't\": \"would not\", \"wouldn't've\": \"would not have\", \"y'all\": \"you all\", \"y'all'd\": \"you all would\",\"y'all'd've\": \"you all would have\",\"y'all're\": \"you all are\",\"y'all've\": \"you all have\",\"you'd\": \"you would\", \"you'd've\": \"you would have\", \"you'll\": \"you will\", \"you'll've\": \"you will have\", \"you're\": \"you are\", \"you've\": \"you have\"}\n",
    "\n",
    "# Query contraction's full form from dictionary\n",
    "def _get_contractions(contraction_dict):\n",
    "    contraction_re = re.compile('(%s)' % '|'.join(contraction_dict.keys()))\n",
    "    return contraction_dict, contraction_re\n",
    "\n",
    "contractions, contractions_re = _get_contractions(contraction_dict)\n",
    "\n",
    "# Replacement contraction with its full form\n",
    "def replace_contractions(text):\n",
    "    def replace(match):\n",
    "        return contractions[match.group(0)]\n",
    "    return contractions_re.sub(replace, text)"
   ]
  },
  {
   "cell_type": "code",
   "execution_count": 9,
   "metadata": {},
   "outputs": [],
   "source": [
    "# Preprocessing function that is to be applied to review column\n",
    "def preprocess(text):\n",
    "    result = remove_brs(text)\n",
    "    result = replace_contractions(result)\n",
    "    result = strip(result)\n",
    "    result = lower_case(result)\n",
    "    result = remove_multi_spaces(result)\n",
    "    result = keep_text(result)\n",
    "    result = lemmatize(result)\n",
    "    result = tokenize(result)\n",
    "    result = ' '.join(result)\n",
    "    return result"
   ]
  },
  {
   "cell_type": "markdown",
   "metadata": {},
   "source": [
    "## Preprocessing on Training Data"
   ]
  },
  {
   "cell_type": "code",
   "execution_count": 10,
   "metadata": {},
   "outputs": [
    {
     "name": "stderr",
     "output_type": "stream",
     "text": [
      "100%|███████████████████████████████████████████████████████████████████████████| 25000/25000 [00:45<00:00, 549.83it/s]\n"
     ]
    }
   ],
   "source": [
    "pbar = pyprind.ProgBar(50000)\n",
    "\n",
    "train_df['review'] = train_df['review'].progress_apply(preprocess) # Preprocess training data"
   ]
  },
  {
   "cell_type": "code",
   "execution_count": 11,
   "metadata": {},
   "outputs": [
    {
     "name": "stderr",
     "output_type": "stream",
     "text": [
      "100%|██████████████████████████████████████████████████████████████████████████| 25000/25000 [00:20<00:00, 1248.76it/s]\n"
     ]
    }
   ],
   "source": [
    "def spellcheck(word):\n",
    "    return sym_spell.lookup(word, Verbosity.CLOSEST, max_edit_distance=2, include_unknown=True)[0]._term # if mispelt, return closest correct word\n",
    "\n",
    "train_dict = {}\n",
    "\n",
    "# Populate dictionary of word frequencies in training corpus\n",
    "for row in train_df['review']:\n",
    "    for word in row.split():\n",
    "        if word not in train_dict:\n",
    "            train_dict[word] = 1\n",
    "        else:\n",
    "            train_dict[word] += 1\n",
    "\n",
    "# Write dictionary to a text file (for SymSpell to load later on)\n",
    "with open('train_dict.txt', 'w') as file:\n",
    "    for key, value in train_dict.items():\n",
    "        file.write(f\"{key} {value}\\n\")\n",
    "\n",
    "# Initialise SymSpell object and load text file of dictionary\n",
    "sym_spell = SymSpell()\n",
    "sym_spell.load_dictionary(\"train_dict.txt\", 0, 1)\n",
    "\n",
    "# Apply spellcheck on training data's review column\n",
    "train_df['review'] = train_df['review'].progress_apply(lambda x: ' '.join([spellcheck(i) for i in x.split()]))"
   ]
  },
  {
   "cell_type": "code",
   "execution_count": 12,
   "metadata": {},
   "outputs": [],
   "source": [
    "train_df.to_csv('train_preprocessed.csv', index=False, encoding='utf-8') # save preprocessed training data to csv"
   ]
  },
  {
   "cell_type": "code",
   "execution_count": 13,
   "metadata": {},
   "outputs": [
    {
     "data": {
      "text/html": [
       "<div>\n",
       "<style scoped>\n",
       "    .dataframe tbody tr th:only-of-type {\n",
       "        vertical-align: middle;\n",
       "    }\n",
       "\n",
       "    .dataframe tbody tr th {\n",
       "        vertical-align: top;\n",
       "    }\n",
       "\n",
       "    .dataframe thead th {\n",
       "        text-align: right;\n",
       "    }\n",
       "</style>\n",
       "<table border=\"1\" class=\"dataframe\">\n",
       "  <thead>\n",
       "    <tr style=\"text-align: right;\">\n",
       "      <th></th>\n",
       "      <th>review</th>\n",
       "      <th>sentiment</th>\n",
       "    </tr>\n",
       "  </thead>\n",
       "  <tbody>\n",
       "    <tr>\n",
       "      <th>0</th>\n",
       "      <td>bromwell high is a cartoon comedy it ran at th...</td>\n",
       "      <td>1</td>\n",
       "    </tr>\n",
       "    <tr>\n",
       "      <th>1</th>\n",
       "      <td>homelessness or houselessness as george carlin...</td>\n",
       "      <td>1</td>\n",
       "    </tr>\n",
       "    <tr>\n",
       "      <th>2</th>\n",
       "      <td>brilliant over acting by lesley ann warren bes...</td>\n",
       "      <td>1</td>\n",
       "    </tr>\n",
       "    <tr>\n",
       "      <th>3</th>\n",
       "      <td>this is easily the most underrated film inn th...</td>\n",
       "      <td>1</td>\n",
       "    </tr>\n",
       "    <tr>\n",
       "      <th>4</th>\n",
       "      <td>this is not the typical mel brooks film it was...</td>\n",
       "      <td>1</td>\n",
       "    </tr>\n",
       "  </tbody>\n",
       "</table>\n",
       "</div>"
      ],
      "text/plain": [
       "                                              review  sentiment\n",
       "0  bromwell high is a cartoon comedy it ran at th...          1\n",
       "1  homelessness or houselessness as george carlin...          1\n",
       "2  brilliant over acting by lesley ann warren bes...          1\n",
       "3  this is easily the most underrated film inn th...          1\n",
       "4  this is not the typical mel brooks film it was...          1"
      ]
     },
     "execution_count": 13,
     "metadata": {},
     "output_type": "execute_result"
    }
   ],
   "source": [
    "train_df = pd.read_csv('train_preprocessed.csv')\n",
    "train_df.head()"
   ]
  },
  {
   "cell_type": "markdown",
   "metadata": {},
   "source": [
    "## Preprocessing on Test Data"
   ]
  },
  {
   "cell_type": "code",
   "execution_count": 14,
   "metadata": {},
   "outputs": [
    {
     "name": "stderr",
     "output_type": "stream",
     "text": [
      "100%|███████████████████████████████████████████████████████████████████████████| 25000/25000 [00:42<00:00, 594.55it/s]\n"
     ]
    }
   ],
   "source": [
    "pbar = pyprind.ProgBar(50000)\n",
    "\n",
    "test_df['review'] = test_df['review'].progress_apply(preprocess) # Preprocess test data"
   ]
  },
  {
   "cell_type": "code",
   "execution_count": 15,
   "metadata": {},
   "outputs": [
    {
     "name": "stderr",
     "output_type": "stream",
     "text": [
      "100%|██████████████████████████████████████████████████████████████████████████| 25000/25000 [00:19<00:00, 1275.33it/s]\n"
     ]
    }
   ],
   "source": [
    "test_dict = {}\n",
    "\n",
    "# Populate dictionary of word frequencies in test corpus\n",
    "for row in test_df['review']:\n",
    "    for word in row.split():\n",
    "        if word not in test_dict:\n",
    "            test_dict[word] = 1\n",
    "        else:\n",
    "            test_dict[word] += 1\n",
    "            \n",
    "# Write dictionary to a text file (for SymSpell to load later on)\n",
    "with open('test_dict.txt', 'w') as file:\n",
    "    for key, value in test_dict.items():\n",
    "        file.write(f\"{key} {value}\\n\")\n",
    "\n",
    "# Initialise SymSpell object and load text file of dictionary\n",
    "sym_spell = SymSpell()\n",
    "sym_spell.load_dictionary(\"test_dict.txt\", 0, 1)\n",
    "\n",
    "# Apply spellcheck on test data's review column\n",
    "test_df['review'] = test_df['review'].progress_apply(lambda x: ' '.join([spellcheck(i) for i in x.split()]))"
   ]
  },
  {
   "cell_type": "code",
   "execution_count": 16,
   "metadata": {},
   "outputs": [],
   "source": [
    "test_df.to_csv('test_preprocessed.csv', index=False, encoding='utf-8') # save preprocessed test data to csv"
   ]
  },
  {
   "cell_type": "code",
   "execution_count": 17,
   "metadata": {},
   "outputs": [
    {
     "data": {
      "text/html": [
       "<div>\n",
       "<style scoped>\n",
       "    .dataframe tbody tr th:only-of-type {\n",
       "        vertical-align: middle;\n",
       "    }\n",
       "\n",
       "    .dataframe tbody tr th {\n",
       "        vertical-align: top;\n",
       "    }\n",
       "\n",
       "    .dataframe thead th {\n",
       "        text-align: right;\n",
       "    }\n",
       "</style>\n",
       "<table border=\"1\" class=\"dataframe\">\n",
       "  <thead>\n",
       "    <tr style=\"text-align: right;\">\n",
       "      <th></th>\n",
       "      <th>review</th>\n",
       "      <th>sentiment</th>\n",
       "    </tr>\n",
       "  </thead>\n",
       "  <tbody>\n",
       "    <tr>\n",
       "      <th>0</th>\n",
       "      <td>i went and saw this movie last night after bei...</td>\n",
       "      <td>1</td>\n",
       "    </tr>\n",
       "    <tr>\n",
       "      <th>1</th>\n",
       "      <td>actor turned director bill paxton follows up h...</td>\n",
       "      <td>1</td>\n",
       "    </tr>\n",
       "    <tr>\n",
       "      <th>2</th>\n",
       "      <td>as a recreational golfer with some knowledge o...</td>\n",
       "      <td>1</td>\n",
       "    </tr>\n",
       "    <tr>\n",
       "      <th>3</th>\n",
       "      <td>i saw this film in a sneak preview and it is d...</td>\n",
       "      <td>1</td>\n",
       "    </tr>\n",
       "    <tr>\n",
       "      <th>4</th>\n",
       "      <td>bill paxton has taken the true story of the us...</td>\n",
       "      <td>1</td>\n",
       "    </tr>\n",
       "  </tbody>\n",
       "</table>\n",
       "</div>"
      ],
      "text/plain": [
       "                                              review  sentiment\n",
       "0  i went and saw this movie last night after bei...          1\n",
       "1  actor turned director bill paxton follows up h...          1\n",
       "2  as a recreational golfer with some knowledge o...          1\n",
       "3  i saw this film in a sneak preview and it is d...          1\n",
       "4  bill paxton has taken the true story of the us...          1"
      ]
     },
     "execution_count": 17,
     "metadata": {},
     "output_type": "execute_result"
    }
   ],
   "source": [
    "test_df = pd.read_csv('test_preprocessed.csv')\n",
    "test_df.head()"
   ]
  },
  {
   "cell_type": "markdown",
   "metadata": {},
   "source": [
    "# Building the Neural Network"
   ]
  },
  {
   "cell_type": "markdown",
   "metadata": {},
   "source": [
    "## Method 1: Word Indexing\n",
    "Takes each word in the text and replaces it with its corresponding integer value from the train_tokenizer dictionary"
   ]
  },
  {
   "cell_type": "code",
   "execution_count": 19,
   "metadata": {},
   "outputs": [],
   "source": [
    "vocab = set(\" \".join(train_df['review']).split()) # create set of unique words in corpus"
   ]
  },
  {
   "cell_type": "code",
   "execution_count": 20,
   "metadata": {},
   "outputs": [
    {
     "data": {
      "text/plain": [
       "<seaborn.axisgrid.FacetGrid at 0x1f4220be820>"
      ]
     },
     "execution_count": 20,
     "metadata": {},
     "output_type": "execute_result"
    },
    {
     "data": {
      "image/png": "[encoded data removed]",
      "text/plain": [
       "<Figure size 360x360 with 1 Axes>"
      ]
     },
     "metadata": {
      "needs_background": "light"
     },
     "output_type": "display_data"
    }
   ],
   "source": [
    "# Analyse distribution of review length to decide max_length of sequence padding\n",
    "lengths = [len(s) for s in train_df['review'].str.split()]\n",
    "sns.displot(lengths)"
   ]
  },
  {
   "cell_type": "markdown",
   "metadata": {},
   "source": [
    "### Encoding Training Data"
   ]
  },
  {
   "cell_type": "code",
   "execution_count": 21,
   "metadata": {},
   "outputs": [],
   "source": [
    "# Create the tokenizer\n",
    "train_tokenizer = tf.keras.preprocessing.text.Tokenizer()\n",
    "\n",
    "# Fit the tokenizer on the training documents\n",
    "train_tokenizer.fit_on_texts(train_df['review'].str.split())\n",
    "\n",
    "# Sequence encode\n",
    "train_encoded_docs = train_tokenizer.texts_to_sequences(train_df['review'].str.split())\n",
    "\n",
    "# Pad sequences\n",
    "max_length = 1000\n",
    "X_train = tf.keras.preprocessing.sequence.pad_sequences(train_encoded_docs, maxlen=max_length, padding='post')\n",
    "\n",
    "# Define vocabulary size (largest integer value)\n",
    "vocab_size = len(train_tokenizer.word_index) + 1"
   ]
  },
  {
   "cell_type": "markdown",
   "metadata": {},
   "source": [
    "### Encoding Test Data"
   ]
  },
  {
   "cell_type": "code",
   "execution_count": 22,
   "metadata": {},
   "outputs": [],
   "source": [
    "# Sequence encode\n",
    "test_encoded_docs = train_tokenizer.texts_to_sequences(test_df['review'].str.split())\n",
    "\n",
    "# Pad sequences\n",
    "X_test = tf.keras.preprocessing.sequence.pad_sequences(test_encoded_docs, maxlen=max_length, padding='post')"
   ]
  },
  {
   "cell_type": "markdown",
   "metadata": {},
   "source": [
    "### Build Word Indexing Model"
   ]
  },
  {
   "cell_type": "code",
   "execution_count": 23,
   "metadata": {},
   "outputs": [
    {
     "name": "stdout",
     "output_type": "stream",
     "text": [
      "Model: \"sequential\"\n",
      "_________________________________________________________________\n",
      "Layer (type)                 Output Shape              Param #   \n",
      "=================================================================\n",
      "embedding (Embedding)        (None, 1000, 100)         7343400   \n",
      "_________________________________________________________________\n",
      "conv1d (Conv1D)              (None, 993, 32)           25632     \n",
      "_________________________________________________________________\n",
      "max_pooling1d (MaxPooling1D) (None, 496, 32)           0         \n",
      "_________________________________________________________________\n",
      "flatten (Flatten)            (None, 15872)             0         \n",
      "_________________________________________________________________\n",
      "dense (Dense)                (None, 10)                158730    \n",
      "_________________________________________________________________\n",
      "dropout (Dropout)            (None, 10)                0         \n",
      "_________________________________________________________________\n",
      "dense_1 (Dense)              (None, 1)                 11        \n",
      "=================================================================\n",
      "Total params: 7,527,773\n",
      "Trainable params: 7,527,773\n",
      "Non-trainable params: 0\n",
      "_________________________________________________________________\n",
      "None\n"
     ]
    }
   ],
   "source": [
    "model = tf.keras.Sequential()\n",
    "model.add(tf.keras.layers.Embedding(vocab_size, 100, input_length=max_length)) # transforms words into their word embeddings\n",
    "model.add(tf.keras.layers.Conv1D(filters=32, kernel_size=8, activation='relu')) # summarizes detected features in input\n",
    "model.add(tf.keras.layers.MaxPooling1D(pool_size=2)) # highlights most present features in feature map\n",
    "model.add(tf.keras.layers.Flatten()) # convert feature map to single column\n",
    "model.add(tf.keras.layers.Dense(10, activation='relu')) # output the input directly if positive. otherwise, output zero\n",
    "model.add(tf.keras.layers.Dropout(0.4)) # randomly ignore some units to reduce overfitting\n",
    "model.add(tf.keras.layers.Dense(1, activation='sigmoid')) # output a value between 0-1 (1: pos sentiment, 0: neg sentiment)\n",
    "print(model.summary())"
   ]
  },
  {
   "cell_type": "markdown",
   "metadata": {},
   "source": [
    "### Create Callback Functions"
   ]
  },
  {
   "cell_type": "code",
   "execution_count": 24,
   "metadata": {},
   "outputs": [],
   "source": [
    "# If val_loss hasn't decreased for 10 epochs, model training stops (to save time if it's not improving)\n",
    "es = tf.keras.callbacks.EarlyStopping(monitor='val_loss', mode='min', verbose=1, patience=10)\n",
    "\n",
    "# Saves the best model so far (in terms of val_loss) to be used later for testing\n",
    "mc = tf.keras.callbacks.ModelCheckpoint('./saved_models/best_tokenizer_model', monitor='val_loss', mode='min', verbose=1, save_best_only=True)"
   ]
  },
  {
   "cell_type": "markdown",
   "metadata": {},
   "source": [
    "### Train Word Indexing Model"
   ]
  },
  {
   "cell_type": "code",
   "execution_count": 25,
   "metadata": {},
   "outputs": [
    {
     "name": "stdout",
     "output_type": "stream",
     "text": [
      "Epoch 1/30\n",
      "625/625 - 113s - loss: 0.4937 - accuracy: 0.7832 - val_loss: 0.7124 - val_accuracy: 0.8394\n",
      "\n",
      "Epoch 00001: val_loss improved from inf to 0.71245, saving model to ./models\\best_tokenizer_model\n",
      "INFO:tensorflow:Assets written to: ./models\\best_tokenizer_model\\assets\n",
      "Epoch 2/30\n",
      "625/625 - 109s - loss: 0.3063 - accuracy: 0.9084 - val_loss: 0.6871 - val_accuracy: 0.8544\n",
      "\n",
      "Epoch 00002: val_loss improved from 0.71245 to 0.68713, saving model to ./models\\best_tokenizer_model\n",
      "INFO:tensorflow:Assets written to: ./models\\best_tokenizer_model\\assets\n",
      "Epoch 3/30\n",
      "625/625 - 105s - loss: 0.1951 - accuracy: 0.9393 - val_loss: 0.7900 - val_accuracy: 0.8444\n",
      "\n",
      "Epoch 00003: val_loss did not improve from 0.68713\n",
      "Epoch 4/30\n",
      "625/625 - 105s - loss: 0.1377 - accuracy: 0.9567 - val_loss: 0.8870 - val_accuracy: 0.8532\n",
      "\n",
      "Epoch 00004: val_loss did not improve from 0.68713\n",
      "Epoch 5/30\n",
      "625/625 - 107s - loss: 0.1051 - accuracy: 0.9691 - val_loss: 1.3919 - val_accuracy: 0.7942\n",
      "\n",
      "Epoch 00005: val_loss did not improve from 0.68713\n",
      "Epoch 6/30\n",
      "625/625 - 105s - loss: 0.0914 - accuracy: 0.9722 - val_loss: 1.4734 - val_accuracy: 0.8198\n",
      "\n",
      "Epoch 00006: val_loss did not improve from 0.68713\n",
      "Epoch 7/30\n",
      "625/625 - 106s - loss: 0.0773 - accuracy: 0.9761 - val_loss: 1.8876 - val_accuracy: 0.8120\n",
      "\n",
      "Epoch 00007: val_loss did not improve from 0.68713\n",
      "Epoch 8/30\n",
      "625/625 - 111s - loss: 0.0610 - accuracy: 0.9779 - val_loss: 2.3245 - val_accuracy: 0.7596\n",
      "\n",
      "Epoch 00008: val_loss did not improve from 0.68713\n",
      "Epoch 9/30\n",
      "625/625 - 111s - loss: 0.0586 - accuracy: 0.9773 - val_loss: 2.9976 - val_accuracy: 0.7564\n",
      "\n",
      "Epoch 00009: val_loss did not improve from 0.68713\n",
      "Epoch 10/30\n",
      "625/625 - 111s - loss: 0.0502 - accuracy: 0.9811 - val_loss: 4.0025 - val_accuracy: 0.7360\n",
      "\n",
      "Epoch 00010: val_loss did not improve from 0.68713\n",
      "Epoch 11/30\n",
      "625/625 - 112s - loss: 0.0436 - accuracy: 0.9840 - val_loss: 1.5833 - val_accuracy: 0.8662\n",
      "\n",
      "Epoch 00011: val_loss did not improve from 0.68713\n",
      "Epoch 12/30\n",
      "625/625 - 111s - loss: 0.0439 - accuracy: 0.9824 - val_loss: 2.9995 - val_accuracy: 0.7714\n",
      "\n",
      "Epoch 00012: val_loss did not improve from 0.68713\n",
      "Epoch 00012: early stopping\n"
     ]
    }
   ],
   "source": [
    "# Compile network\n",
    "model.compile(loss='binary_crossentropy', optimizer='adam', metrics=['accuracy'])\n",
    "\n",
    "# Fit network, with validation testing using 80-20 split and random shuffling\n",
    "history = model.fit(X_train, train_df['sentiment'], epochs=30, verbose=2, validation_split=0.2, shuffle=True, callbacks=[es,mc])"
   ]
  },
  {
   "cell_type": "code",
   "execution_count": 26,
   "metadata": {},
   "outputs": [
    {
     "data": {
      "image/png": "[encoded data removed]",
      "text/plain": [
       "<Figure size 432x288 with 1 Axes>"
      ]
     },
     "metadata": {
      "needs_background": "light"
     },
     "output_type": "display_data"
    },
    {
     "data": {
      "image/png": "[encoded data removed]",
      "text/plain": [
       "<Figure size 432x288 with 1 Axes>"
      ]
     },
     "metadata": {
      "needs_background": "light"
     },
     "output_type": "display_data"
    }
   ],
   "source": [
    "# Summarize history for accuracy\n",
    "plt.plot(history.history['accuracy'])\n",
    "plt.plot(history.history['val_accuracy'])\n",
    "plt.title('model accuracy')\n",
    "plt.ylabel('accuracy')\n",
    "plt.xlabel('epoch')\n",
    "plt.legend(['train', 'test'], loc='upper left')\n",
    "plt.show()\n",
    "\n",
    "# Summarize history for loss\n",
    "plt.plot(history.history['loss'])\n",
    "plt.plot(history.history['val_loss'])\n",
    "plt.title('model loss')\n",
    "plt.ylabel('loss')\n",
    "plt.xlabel('epoch')\n",
    "plt.legend(['train', 'test'], loc='upper left')\n",
    "plt.show()"
   ]
  },
  {
   "cell_type": "code",
   "execution_count": 27,
   "metadata": {},
   "outputs": [],
   "source": [
    "# Load best term frequency model\n",
    "model = tf.keras.models.load_model('saved_models/best_tokenizer_model')"
   ]
  },
  {
   "cell_type": "code",
   "execution_count": 28,
   "metadata": {},
   "outputs": [
    {
     "name": "stdout",
     "output_type": "stream",
     "text": [
      "===== Threshold: 0.3 =====\n",
      "\n",
      "              precision    recall  f1-score   support\n",
      "\n",
      "           0       0.00      0.00      0.00     12500\n",
      "           1       0.50      1.00      0.67     12500\n",
      "\n",
      "    accuracy                           0.50     25000\n",
      "   macro avg       0.25      0.50      0.33     25000\n",
      "weighted avg       0.25      0.50      0.33     25000\n",
      "\n",
      "===== Threshold: 0.5 =====\n",
      "\n",
      "              precision    recall  f1-score   support\n",
      "\n",
      "           0       0.88      0.86      0.87     12500\n",
      "           1       0.86      0.88      0.87     12500\n",
      "\n",
      "    accuracy                           0.87     25000\n",
      "   macro avg       0.87      0.87      0.87     25000\n",
      "weighted avg       0.87      0.87      0.87     25000\n",
      "\n",
      "===== Threshold: 0.7 =====\n",
      "\n"
     ]
    },
    {
     "name": "stderr",
     "output_type": "stream",
     "text": [
      "C:\\Users\\User\\anaconda3\\lib\\site-packages\\sklearn\\metrics\\_classification.py:1221: UndefinedMetricWarning: Precision and F-score are ill-defined and being set to 0.0 in labels with no predicted samples. Use `zero_division` parameter to control this behavior.\n",
      "  _warn_prf(average, modifier, msg_start, len(result))\n"
     ]
    },
    {
     "name": "stdout",
     "output_type": "stream",
     "text": [
      "              precision    recall  f1-score   support\n",
      "\n",
      "           0       0.84      0.90      0.87     12500\n",
      "           1       0.89      0.83      0.86     12500\n",
      "\n",
      "    accuracy                           0.86     25000\n",
      "   macro avg       0.87      0.86      0.86     25000\n",
      "weighted avg       0.87      0.86      0.86     25000\n",
      "\n"
     ]
    }
   ],
   "source": [
    "# Predicted sigmoid outputs (float between 0 and 1)\n",
    "y_pred = model.predict(X_test)\n",
    "\n",
    "# Try different classification thresholds and compare classification metrics\n",
    "for threshold in [0.3, 0.5, 0.7]:\n",
    "    print(f\"===== Threshold: {threshold} =====\\n\")\n",
    "    y_pred_labels = [1 if i > threshold else 0 for i in y_pred]\n",
    "    print(classification_report(test_df['sentiment'], y_pred_labels))"
   ]
  },
  {
   "cell_type": "markdown",
   "metadata": {},
   "source": [
    "## Method 2: Word2Vec (IMDB Trained)"
   ]
  },
  {
   "cell_type": "markdown",
   "metadata": {},
   "source": [
    "### Converting Text into Word2Vec (IMDB) Embeddings"
   ]
  },
  {
   "cell_type": "code",
   "execution_count": 29,
   "metadata": {},
   "outputs": [
    {
     "name": "stdout",
     "output_type": "stream",
     "text": [
      "Vocabulary size: 73433\n"
     ]
    }
   ],
   "source": [
    "# Train word2vec model with 100 dimensions, max distance of 5 between current and predicted word, ignoring words with freq < 1\n",
    "model = Word2Vec(train_df['review'].str.split(), size=100, window=5, workers=8, min_count=1)\n",
    "\n",
    "# Summarize vocabulary size in model\n",
    "words = list(model.wv.vocab)\n",
    "print('Vocabulary size: %d' % len(words))\n",
    "\n",
    "# Save model in ASCII (word2vec) format\n",
    "filename = 'imdb_word2vec.txt'\n",
    "model.wv.save_word2vec_format(filename, binary=False)"
   ]
  },
  {
   "cell_type": "code",
   "execution_count": 30,
   "metadata": {},
   "outputs": [],
   "source": [
    "# Load embedding as a dict\n",
    "def load_embedding(filename):\n",
    "    # Load embedding into memory, skip first line\n",
    "    file = open(filename,'r')\n",
    "    lines = file.readlines()[1:]\n",
    "    file.close()\n",
    "    \n",
    "    # Create a map of words to vectors\n",
    "    embedding = dict()\n",
    "    for line in lines:\n",
    "        parts = line.split()\n",
    "        # Key is string word, value is numpy array for vector\n",
    "        embedding[parts[0]] = np.asarray(parts[1:], dtype='float32')\n",
    "    return embedding"
   ]
  },
  {
   "cell_type": "code",
   "execution_count": 31,
   "metadata": {},
   "outputs": [],
   "source": [
    "# Create a weight matrix for the Embedding layer from a loaded embedding\n",
    "def get_weight_matrix(embedding, vocab):\n",
    "    # Total vocabulary size plus 0 for unknown words\n",
    "    vocab_size = len(vocab) + 1\n",
    "    # Define weight matrix dimensions with all 0\n",
    "    weight_matrix = np.zeros((vocab_size, 100))\n",
    "    # Step vocab, store vectors using the Tokenizer's integer mapping\n",
    "    for word, i in vocab.items():\n",
    "        weight_matrix[i] = embedding.get(word)\n",
    "    return weight_matrix"
   ]
  },
  {
   "cell_type": "code",
   "execution_count": 32,
   "metadata": {},
   "outputs": [],
   "source": [
    "# load embedding from file\n",
    "raw_embedding = load_embedding('imdb_word2vec.txt')\n",
    "\n",
    "# Get vectors in the right order\n",
    "embedding_vectors = get_weight_matrix(raw_embedding, train_tokenizer.word_index)\n",
    "\n",
    "# Create the embedding layer\n",
    "embedding_layer = tf.keras.layers.Embedding(vocab_size, 100, weights=[embedding_vectors], input_length=max_length, trainable=False)"
   ]
  },
  {
   "cell_type": "markdown",
   "metadata": {},
   "source": [
    "### Build IMDB Trained Word2Vec Model"
   ]
  },
  {
   "cell_type": "code",
   "execution_count": 33,
   "metadata": {},
   "outputs": [
    {
     "name": "stdout",
     "output_type": "stream",
     "text": [
      "Model: \"sequential_1\"\n",
      "_________________________________________________________________\n",
      "Layer (type)                 Output Shape              Param #   \n",
      "=================================================================\n",
      "embedding_1 (Embedding)      (None, 1000, 100)         7343400   \n",
      "_________________________________________________________________\n",
      "conv1d_1 (Conv1D)            (None, 996, 128)          64128     \n",
      "_________________________________________________________________\n",
      "max_pooling1d_1 (MaxPooling1 (None, 498, 128)          0         \n",
      "_________________________________________________________________\n",
      "flatten_1 (Flatten)          (None, 63744)             0         \n",
      "_________________________________________________________________\n",
      "dropout_1 (Dropout)          (None, 63744)             0         \n",
      "_________________________________________________________________\n",
      "dense_2 (Dense)              (None, 1)                 63745     \n",
      "=================================================================\n",
      "Total params: 7,471,273\n",
      "Trainable params: 127,873\n",
      "Non-trainable params: 7,343,400\n",
      "_________________________________________________________________\n",
      "None\n"
     ]
    }
   ],
   "source": [
    "model = tf.keras.Sequential()\n",
    "model.add(embedding_layer) # transforms words into their word embeddings\n",
    "model.add(tf.keras.layers.Conv1D(filters=128, kernel_size=5, activation='relu')) # summarizes detected features in input\n",
    "model.add(tf.keras.layers.MaxPooling1D(pool_size=2)) # highlights most present features in feature map\n",
    "model.add(tf.keras.layers.Flatten()) # convert feature map to single column\n",
    "model.add(tf.keras.layers.Dropout(0.4)) # randomly ignore some units to reduce overfitting\n",
    "model.add(tf.keras.layers.Dense(1, activation='sigmoid')) # output a value between 0-1 (1: pos sentiment, 0: neg sentiment)\n",
    "print(model.summary())"
   ]
  },
  {
   "cell_type": "markdown",
   "metadata": {},
   "source": [
    "### Create Callback Functions"
   ]
  },
  {
   "cell_type": "code",
   "execution_count": 34,
   "metadata": {},
   "outputs": [],
   "source": [
    "# If val_loss hasn't decreased for 10 epochs, model training stops (to save time if it's not improving)\n",
    "es = tf.keras.callbacks.EarlyStopping(monitor='val_loss', mode='min', verbose=1, patience=10)\n",
    "\n",
    "# Saves the best model so far (in terms of val_loss) to be used later for testing\n",
    "mc = tf.keras.callbacks.ModelCheckpoint('./saved_models/best_imdb_w2v_model', monitor='val_loss', mode='min', verbose=1, save_best_only=True)"
   ]
  },
  {
   "cell_type": "markdown",
   "metadata": {},
   "source": [
    "### Train Word2Vec (IMDB) Model"
   ]
  },
  {
   "cell_type": "code",
   "execution_count": 35,
   "metadata": {},
   "outputs": [
    {
     "name": "stdout",
     "output_type": "stream",
     "text": [
      "Epoch 1/30\n",
      "625/625 - 111s - loss: 0.5711 - accuracy: 0.7246 - val_loss: 0.8239 - val_accuracy: 0.5652\n",
      "\n",
      "Epoch 00001: val_loss improved from inf to 0.82391, saving model to ./models\\best_imdb_w2v_model\n",
      "INFO:tensorflow:Assets written to: ./models\\best_imdb_w2v_model\\assets\n",
      "Epoch 2/30\n",
      "625/625 - 109s - loss: 0.3702 - accuracy: 0.8422 - val_loss: 0.4130 - val_accuracy: 0.8236\n",
      "\n",
      "Epoch 00002: val_loss improved from 0.82391 to 0.41301, saving model to ./models\\best_imdb_w2v_model\n",
      "INFO:tensorflow:Assets written to: ./models\\best_imdb_w2v_model\\assets\n",
      "Epoch 3/30\n",
      "625/625 - 109s - loss: 0.3004 - accuracy: 0.8741 - val_loss: 0.3954 - val_accuracy: 0.8370\n",
      "\n",
      "Epoch 00003: val_loss improved from 0.41301 to 0.39536, saving model to ./models\\best_imdb_w2v_model\n",
      "INFO:tensorflow:Assets written to: ./models\\best_imdb_w2v_model\\assets\n",
      "Epoch 4/30\n",
      "625/625 - 109s - loss: 0.2551 - accuracy: 0.8931 - val_loss: 0.6106 - val_accuracy: 0.7702\n",
      "\n",
      "Epoch 00004: val_loss did not improve from 0.39536\n",
      "Epoch 5/30\n",
      "625/625 - 108s - loss: 0.2191 - accuracy: 0.9118 - val_loss: 0.7337 - val_accuracy: 0.7476\n",
      "\n",
      "Epoch 00005: val_loss did not improve from 0.39536\n",
      "Epoch 6/30\n",
      "625/625 - 108s - loss: 0.1859 - accuracy: 0.9260 - val_loss: 1.0950 - val_accuracy: 0.6884\n",
      "\n",
      "Epoch 00006: val_loss did not improve from 0.39536\n",
      "Epoch 7/30\n",
      "625/625 - 109s - loss: 0.1705 - accuracy: 0.9341 - val_loss: 1.0446 - val_accuracy: 0.7108\n",
      "\n",
      "Epoch 00007: val_loss did not improve from 0.39536\n",
      "Epoch 8/30\n",
      "625/625 - 109s - loss: 0.1690 - accuracy: 0.9359 - val_loss: 1.2434 - val_accuracy: 0.6928\n",
      "\n",
      "Epoch 00008: val_loss did not improve from 0.39536\n",
      "Epoch 9/30\n",
      "625/625 - 108s - loss: 0.1406 - accuracy: 0.9447 - val_loss: 1.5995 - val_accuracy: 0.6442\n",
      "\n",
      "Epoch 00009: val_loss did not improve from 0.39536\n",
      "Epoch 10/30\n",
      "625/625 - 108s - loss: 0.1322 - accuracy: 0.9489 - val_loss: 1.0705 - val_accuracy: 0.7442\n",
      "\n",
      "Epoch 00010: val_loss did not improve from 0.39536\n",
      "Epoch 11/30\n",
      "625/625 - 109s - loss: 0.1288 - accuracy: 0.9517 - val_loss: 1.6610 - val_accuracy: 0.6868\n",
      "\n",
      "Epoch 00011: val_loss did not improve from 0.39536\n",
      "Epoch 12/30\n",
      "625/625 - 108s - loss: 0.1316 - accuracy: 0.9549 - val_loss: 1.9782 - val_accuracy: 0.6432\n",
      "\n",
      "Epoch 00012: val_loss did not improve from 0.39536\n",
      "Epoch 13/30\n",
      "625/625 - 108s - loss: 0.1267 - accuracy: 0.9553 - val_loss: 1.7910 - val_accuracy: 0.6512\n",
      "\n",
      "Epoch 00013: val_loss did not improve from 0.39536\n",
      "Epoch 00013: early stopping\n"
     ]
    }
   ],
   "source": [
    "# Compile network\n",
    "model.compile(loss='binary_crossentropy', optimizer='adam', metrics=['accuracy'])\n",
    "\n",
    "# Fit network, with validation testing using 80-20 split and random shuffling\n",
    "history = model.fit(X_train, train_df['sentiment'], epochs=30, verbose=2, validation_split=0.2, shuffle=True, callbacks=[es,mc])"
   ]
  },
  {
   "cell_type": "code",
   "execution_count": 36,
   "metadata": {},
   "outputs": [
    {
     "data": {
      "image/png": "[encoded data removed]",
      "text/plain": [
       "<Figure size 432x288 with 1 Axes>"
      ]
     },
     "metadata": {
      "needs_background": "light"
     },
     "output_type": "display_data"
    },
    {
     "data": {
      "image/png": "[encoded data removed]",
      "text/plain": [
       "<Figure size 432x288 with 1 Axes>"
      ]
     },
     "metadata": {
      "needs_background": "light"
     },
     "output_type": "display_data"
    }
   ],
   "source": [
    "# Summarize history for accuracy\n",
    "plt.plot(history.history['accuracy'])\n",
    "plt.plot(history.history['val_accuracy'])\n",
    "plt.title('model accuracy')\n",
    "plt.ylabel('accuracy')\n",
    "plt.xlabel('epoch')\n",
    "plt.legend(['train', 'test'], loc='upper left')\n",
    "plt.show()\n",
    "\n",
    "# Summarize history for loss\n",
    "plt.plot(history.history['loss'])\n",
    "plt.plot(history.history['val_loss'])\n",
    "plt.title('model loss')\n",
    "plt.ylabel('loss')\n",
    "plt.xlabel('epoch')\n",
    "plt.legend(['train', 'test'], loc='upper left')\n",
    "plt.show()"
   ]
  },
  {
   "cell_type": "code",
   "execution_count": 37,
   "metadata": {},
   "outputs": [],
   "source": [
    "# Load best model\n",
    "model = tf.keras.models.load_model('saved_models/best_imdb_w2v_model')"
   ]
  },
  {
   "cell_type": "code",
   "execution_count": 38,
   "metadata": {},
   "outputs": [
    {
     "name": "stdout",
     "output_type": "stream",
     "text": [
      "===== Threshold: 0.3 =====\n",
      "\n",
      "              precision    recall  f1-score   support\n",
      "\n",
      "           0       0.86      0.74      0.79     12500\n",
      "           1       0.77      0.88      0.82     12500\n",
      "\n",
      "    accuracy                           0.81     25000\n",
      "   macro avg       0.81      0.81      0.81     25000\n",
      "weighted avg       0.81      0.81      0.81     25000\n",
      "\n",
      "===== Threshold: 0.5 =====\n",
      "\n",
      "              precision    recall  f1-score   support\n",
      "\n",
      "           0       0.80      0.84      0.82     12500\n",
      "           1       0.83      0.80      0.81     12500\n",
      "\n",
      "    accuracy                           0.82     25000\n",
      "   macro avg       0.82      0.82      0.82     25000\n",
      "weighted avg       0.82      0.82      0.82     25000\n",
      "\n",
      "===== Threshold: 0.7 =====\n",
      "\n",
      "              precision    recall  f1-score   support\n",
      "\n",
      "           0       0.73      0.91      0.81     12500\n",
      "           1       0.88      0.67      0.76     12500\n",
      "\n",
      "    accuracy                           0.79     25000\n",
      "   macro avg       0.81      0.79      0.79     25000\n",
      "weighted avg       0.81      0.79      0.79     25000\n",
      "\n"
     ]
    }
   ],
   "source": [
    "# Predicted sigmoid outputs (float between 0 and 1)\n",
    "y_pred = model.predict(X_test)\n",
    "\n",
    "# Try different classification thresholds and compare classification metrics\n",
    "for threshold in [0.3, 0.5, 0.7]:\n",
    "    print(f\"===== Threshold: {threshold} =====\\n\")\n",
    "    y_pred_labels = [1 if i > threshold else 0 for i in y_pred]\n",
    "    print(classification_report(test_df['sentiment'], y_pred_labels))"
   ]
  },
  {
   "cell_type": "markdown",
   "metadata": {},
   "source": [
    "## Method 3: Word2Vec (GloVe)"
   ]
  },
  {
   "cell_type": "markdown",
   "metadata": {},
   "source": [
    "### Converting Text into Word2Vec (GloVe) Embeddings\n",
    "You may download glove.6B.100d.txt file from http://nlp.stanford.edu/data/glove.6B.zip and place it in the same directory as this notebook"
   ]
  },
  {
   "cell_type": "code",
   "execution_count": 39,
   "metadata": {},
   "outputs": [],
   "source": [
    "# Create a weight matrix for the Embedding layer from a loaded embedding\n",
    "def get_weight_matrix_glove(embedding, vocab):\n",
    "    # Total vocabulary size plus 0 for unknown words\n",
    "    vocab_size = len(vocab) + 1\n",
    "    # Define weight matrix dimensions with all 0\n",
    "    weight_matrix = np.zeros((vocab_size, 100))\n",
    "    # Step vocab, store vectors using the Tokenizer's integer mapping\n",
    "    for word, i in vocab.items():\n",
    "        try:\n",
    "            embedding_vector = embedding[word]\n",
    "            if embedding_vector is not None: # if word not in GloVe vocabulary\n",
    "                weight_matrix[i] = embedding_vector\n",
    "        except:\n",
    "            pass\n",
    "    return weight_matrix"
   ]
  },
  {
   "cell_type": "code",
   "execution_count": 40,
   "metadata": {},
   "outputs": [],
   "source": [
    "# Load embedding from file\n",
    "raw_embedding = {}\n",
    "glove_data = 'glove.6B.100d.txt'\n",
    "f = open(glove_data, encoding='utf8')\n",
    "for line in f:\n",
    "    values = line.split()\n",
    "    word = values[0]\n",
    "    coefs = np.asarray(values[1:], dtype='float32')\n",
    "    raw_embedding[word] = coefs\n",
    "f.close()\n",
    "\n",
    "# Get vectors in the right order\n",
    "embedding_vectors = get_weight_matrix_glove(raw_embedding, train_tokenizer.word_index)\n",
    "\n",
    "# Create the embedding layer\n",
    "embedding_layer = tf.keras.layers.Embedding(vocab_size, 100, weights=[embedding_vectors], input_length=max_length, trainable=False)"
   ]
  },
  {
   "cell_type": "markdown",
   "metadata": {},
   "source": [
    "### Build Word2Vec (GloVe) Model"
   ]
  },
  {
   "cell_type": "code",
   "execution_count": 41,
   "metadata": {},
   "outputs": [
    {
     "name": "stdout",
     "output_type": "stream",
     "text": [
      "Model: \"sequential_2\"\n",
      "_________________________________________________________________\n",
      "Layer (type)                 Output Shape              Param #   \n",
      "=================================================================\n",
      "embedding_2 (Embedding)      (None, 1000, 100)         7343400   \n",
      "_________________________________________________________________\n",
      "conv1d_2 (Conv1D)            (None, 996, 128)          64128     \n",
      "_________________________________________________________________\n",
      "max_pooling1d_2 (MaxPooling1 (None, 498, 128)          0         \n",
      "_________________________________________________________________\n",
      "flatten_2 (Flatten)          (None, 63744)             0         \n",
      "_________________________________________________________________\n",
      "dropout_2 (Dropout)          (None, 63744)             0         \n",
      "_________________________________________________________________\n",
      "dense_3 (Dense)              (None, 1)                 63745     \n",
      "=================================================================\n",
      "Total params: 7,471,273\n",
      "Trainable params: 127,873\n",
      "Non-trainable params: 7,343,400\n",
      "_________________________________________________________________\n",
      "None\n"
     ]
    }
   ],
   "source": [
    "# Define model\n",
    "model = tf.keras.Sequential()\n",
    "model.add(embedding_layer) # transforms words into their word embeddings\n",
    "model.add(tf.keras.layers.Conv1D(filters=128, kernel_size=5, activation='relu')) # summarizes detected features in input\n",
    "model.add(tf.keras.layers.MaxPooling1D(pool_size=2)) # highlights most present features in feature map\n",
    "model.add(tf.keras.layers.Flatten()) # convert feature map to single column\n",
    "model.add(tf.keras.layers.Dropout(0.4)) # randomly ignore some units to reduce overfitting\n",
    "model.add(tf.keras.layers.Dense(1, activation='sigmoid')) # output a value between 0-1 (1: pos sentiment, 0: neg sentiment)\n",
    "print(model.summary())"
   ]
  },
  {
   "cell_type": "markdown",
   "metadata": {},
   "source": [
    "### Create Callback Functions"
   ]
  },
  {
   "cell_type": "code",
   "execution_count": 42,
   "metadata": {},
   "outputs": [],
   "source": [
    "# If val_loss hasn't decreased for 10 epochs, model training stops (to save time if it's not improving)\n",
    "es = tf.keras.callbacks.EarlyStopping(monitor='val_loss', mode='min', verbose=1, patience=10)\n",
    "\n",
    "# Saves the best model so far (in terms of val_loss) to be used later for testing\n",
    "mc = tf.keras.callbacks.ModelCheckpoint('./saved_models/best_glove_w2v_model', monitor='val_loss', mode='min', verbose=1, save_best_only=True)"
   ]
  },
  {
   "cell_type": "markdown",
   "metadata": {},
   "source": [
    "### Train Word2Vec (GloVe) Model"
   ]
  },
  {
   "cell_type": "code",
   "execution_count": 43,
   "metadata": {},
   "outputs": [
    {
     "name": "stdout",
     "output_type": "stream",
     "text": [
      "Epoch 1/30\n",
      "625/625 - 110s - loss: 0.5264 - accuracy: 0.7419 - val_loss: 0.4279 - val_accuracy: 0.7978\n",
      "\n",
      "Epoch 00001: val_loss improved from inf to 0.42789, saving model to ./models\\best_glove_w2v_model\n",
      "INFO:tensorflow:Assets written to: ./models\\best_glove_w2v_model\\assets\n",
      "Epoch 2/30\n",
      "625/625 - 109s - loss: 0.3795 - accuracy: 0.8346 - val_loss: 0.4711 - val_accuracy: 0.7674\n",
      "\n",
      "Epoch 00002: val_loss did not improve from 0.42789\n",
      "Epoch 3/30\n",
      "625/625 - 109s - loss: 0.3126 - accuracy: 0.8670 - val_loss: 0.4102 - val_accuracy: 0.8266\n",
      "\n",
      "Epoch 00003: val_loss improved from 0.42789 to 0.41019, saving model to ./models\\best_glove_w2v_model\n",
      "INFO:tensorflow:Assets written to: ./models\\best_glove_w2v_model\\assets\n",
      "Epoch 4/30\n",
      "625/625 - 109s - loss: 0.2516 - accuracy: 0.8982 - val_loss: 0.4642 - val_accuracy: 0.7856\n",
      "\n",
      "Epoch 00004: val_loss did not improve from 0.41019\n",
      "Epoch 5/30\n",
      "625/625 - 109s - loss: 0.1975 - accuracy: 0.9219 - val_loss: 0.9747 - val_accuracy: 0.6318\n",
      "\n",
      "Epoch 00005: val_loss did not improve from 0.41019\n",
      "Epoch 6/30\n",
      "625/625 - 109s - loss: 0.1661 - accuracy: 0.9345 - val_loss: 0.7994 - val_accuracy: 0.7036\n",
      "\n",
      "Epoch 00006: val_loss did not improve from 0.41019\n",
      "Epoch 7/30\n",
      "625/625 - 112s - loss: 0.1341 - accuracy: 0.9485 - val_loss: 0.4215 - val_accuracy: 0.8330\n",
      "\n",
      "Epoch 00007: val_loss did not improve from 0.41019\n",
      "Epoch 8/30\n",
      "625/625 - 108s - loss: 0.1226 - accuracy: 0.9536 - val_loss: 0.4031 - val_accuracy: 0.8540\n",
      "\n",
      "Epoch 00008: val_loss improved from 0.41019 to 0.40309, saving model to ./models\\best_glove_w2v_model\n",
      "INFO:tensorflow:Assets written to: ./models\\best_glove_w2v_model\\assets\n",
      "Epoch 9/30\n",
      "625/625 - 107s - loss: 0.0994 - accuracy: 0.9629 - val_loss: 0.4950 - val_accuracy: 0.8318\n",
      "\n",
      "Epoch 00009: val_loss did not improve from 0.40309\n",
      "Epoch 10/30\n",
      "625/625 - 108s - loss: 0.0961 - accuracy: 0.9652 - val_loss: 0.6155 - val_accuracy: 0.8016\n",
      "\n",
      "Epoch 00010: val_loss did not improve from 0.40309\n",
      "Epoch 11/30\n",
      "625/625 - 108s - loss: 0.0874 - accuracy: 0.9667 - val_loss: 0.6820 - val_accuracy: 0.7978\n",
      "\n",
      "Epoch 00011: val_loss did not improve from 0.40309\n",
      "Epoch 12/30\n",
      "625/625 - 112s - loss: 0.0842 - accuracy: 0.9693 - val_loss: 0.9912 - val_accuracy: 0.7348\n",
      "\n",
      "Epoch 00012: val_loss did not improve from 0.40309\n",
      "Epoch 13/30\n",
      "625/625 - 104s - loss: 0.0770 - accuracy: 0.9711 - val_loss: 1.2527 - val_accuracy: 0.6922\n",
      "\n",
      "Epoch 00013: val_loss did not improve from 0.40309\n",
      "Epoch 14/30\n",
      "625/625 - 98s - loss: 0.0720 - accuracy: 0.9748 - val_loss: 1.0648 - val_accuracy: 0.7418\n",
      "\n",
      "Epoch 00014: val_loss did not improve from 0.40309\n",
      "Epoch 15/30\n",
      "625/625 - 99s - loss: 0.0642 - accuracy: 0.9771 - val_loss: 1.6829 - val_accuracy: 0.6494\n",
      "\n",
      "Epoch 00015: val_loss did not improve from 0.40309\n",
      "Epoch 16/30\n",
      "625/625 - 100s - loss: 0.0679 - accuracy: 0.9759 - val_loss: 1.7712 - val_accuracy: 0.6500\n",
      "\n",
      "Epoch 00016: val_loss did not improve from 0.40309\n",
      "Epoch 17/30\n",
      "625/625 - 98s - loss: 0.0701 - accuracy: 0.9737 - val_loss: 2.1859 - val_accuracy: 0.5760\n",
      "\n",
      "Epoch 00017: val_loss did not improve from 0.40309\n",
      "Epoch 18/30\n",
      "625/625 - 99s - loss: 0.0608 - accuracy: 0.9792 - val_loss: 0.8673 - val_accuracy: 0.7894\n",
      "\n",
      "Epoch 00018: val_loss did not improve from 0.40309\n",
      "Epoch 00018: early stopping\n"
     ]
    }
   ],
   "source": [
    "# Compile network\n",
    "model.compile(loss='binary_crossentropy', optimizer='adam', metrics=['accuracy'])\n",
    "\n",
    "# Fit network, with validation testing using 80-20 split and random shuffling\n",
    "history = model.fit(X_train, train_df['sentiment'], epochs=30, verbose=2, validation_split=0.2, shuffle=True, callbacks=[es,mc])"
   ]
  },
  {
   "cell_type": "code",
   "execution_count": 44,
   "metadata": {},
   "outputs": [
    {
     "data": {
      "image/png": "[encoded data removed]",
      "text/plain": [
       "<Figure size 432x288 with 1 Axes>"
      ]
     },
     "metadata": {
      "needs_background": "light"
     },
     "output_type": "display_data"
    },
    {
     "data": {
      "image/png": "[encoded data removed]",
      "text/plain": [
       "<Figure size 432x288 with 1 Axes>"
      ]
     },
     "metadata": {
      "needs_background": "light"
     },
     "output_type": "display_data"
    }
   ],
   "source": [
    "# Summarize history for accuracy\n",
    "plt.plot(history.history['accuracy'])\n",
    "plt.plot(history.history['val_accuracy'])\n",
    "plt.title('model accuracy')\n",
    "plt.ylabel('accuracy')\n",
    "plt.xlabel('epoch')\n",
    "plt.legend(['train', 'test'], loc='upper left')\n",
    "plt.show()\n",
    "\n",
    "# Summarize history for loss\n",
    "plt.plot(history.history['loss'])\n",
    "plt.plot(history.history['val_loss'])\n",
    "plt.title('model loss')\n",
    "plt.ylabel('loss')\n",
    "plt.xlabel('epoch')\n",
    "plt.legend(['train', 'test'], loc='upper left')\n",
    "plt.show()"
   ]
  },
  {
   "cell_type": "code",
   "execution_count": 45,
   "metadata": {},
   "outputs": [],
   "source": [
    "# Load best model\n",
    "model = tf.keras.models.load_model('saved_models/best_glove_w2v_model')"
   ]
  },
  {
   "cell_type": "code",
   "execution_count": 46,
   "metadata": {},
   "outputs": [
    {
     "name": "stdout",
     "output_type": "stream",
     "text": [
      "===== Threshold: 0.3 =====\n",
      "\n",
      "              precision    recall  f1-score   support\n",
      "\n",
      "           0       0.84      0.79      0.82     12500\n",
      "           1       0.80      0.85      0.83     12500\n",
      "\n",
      "    accuracy                           0.82     25000\n",
      "   macro avg       0.82      0.82      0.82     25000\n",
      "weighted avg       0.82      0.82      0.82     25000\n",
      "\n",
      "===== Threshold: 0.5 =====\n",
      "\n",
      "              precision    recall  f1-score   support\n",
      "\n",
      "           0       0.80      0.86      0.83     12500\n",
      "           1       0.85      0.79      0.82     12500\n",
      "\n",
      "    accuracy                           0.82     25000\n",
      "   macro avg       0.83      0.82      0.82     25000\n",
      "weighted avg       0.83      0.82      0.82     25000\n",
      "\n",
      "===== Threshold: 0.7 =====\n",
      "\n",
      "              precision    recall  f1-score   support\n",
      "\n",
      "           0       0.76      0.90      0.82     12500\n",
      "           1       0.88      0.71      0.79     12500\n",
      "\n",
      "    accuracy                           0.81     25000\n",
      "   macro avg       0.82      0.81      0.81     25000\n",
      "weighted avg       0.82      0.81      0.81     25000\n",
      "\n"
     ]
    }
   ],
   "source": [
    "# Predicted sigmoid outputs (float between 0 and 1)\n",
    "y_pred = model.predict(X_test)\n",
    "\n",
    "# Try different classification thresholds and compare classification metrics\n",
    "for threshold in [0.3, 0.5, 0.7]:\n",
    "    print(f\"===== Threshold: {threshold} =====\\n\")\n",
    "    y_pred_labels = [1 if i > threshold else 0 for i in y_pred]\n",
    "    print(classification_report(test_df['sentiment'], y_pred_labels))"
   ]
  },
  {
   "cell_type": "markdown",
   "metadata": {},
   "source": [
    "# References"
   ]
  },
  {
   "cell_type": "markdown",
   "metadata": {},
   "source": [
    "Text Preprocessing in Python: Steps, Tools, and Examples<br>\n",
    "https://medium.com/@datamonsters/text-preprocessing-in-python-steps-tools-and-examples-bf025f872908\n",
    "\n",
    "NLP Learning Series: Part 1 - Text Preprocessing Methods for Deep Learning<br>\n",
    "https://mlwhiz.com/blog/2019/01/17/deeplearning_nlp_preprocess/\n",
    "\n",
    "Progress Bars in Python<br>\n",
    "https://towardsdatascience.com/progress-bars-in-python-4b44e8a4c482\n",
    "\n",
    "symspellpy Spellcheck Tutorial<br>\n",
    "https://symspellpy.readthedocs.io/en/latest/examples/lookup.html#basic-usage\n",
    "\n",
    "How to Prepare Text Data for Deep Learning with Keras<br>\n",
    "https://machinelearningmastery.com/prepare-text-data-deep-learning-keras/\n",
    "\n",
    "A Beginner’s Guide to Word Embedding with Gensim Word2Vec Model<br>\n",
    "https://towardsdatascience.com/a-beginners-guide-to-word-embedding-with-gensim-word2vec-model-5970fa56cc92\n",
    "\n",
    "Basics of Using Pre-trained GloVe Vectors in Python<br>\n",
    "https://medium.com/analytics-vidhya/basics-of-using-pre-trained-glove-vectors-in-python-d38905f356db\n",
    "\n",
    "Gensim Word2Vec Tutorial<br>\n",
    "https://www.kaggle.com/pierremegret/gensim-word2vec-tutorial\n",
    "\n",
    "Deep Convolutional Neural Network for Sentiment Analysis (Text Classification)<br>\n",
    "https://machinelearningmastery.com/develop-word-embedding-model-predicting-movie-review-sentiment/\n",
    "\n",
    "Use Early Stopping to Halt the Training of Neural Networks At the Right Time<br>\n",
    "https://machinelearningmastery.com/how-to-stop-training-deep-neural-networks-at-the-right-time-using-early-stopping/"
   ]
  }
 ],
 "metadata": {
  "kernelspec": {
   "display_name": "Python 3",
   "language": "python",
   "name": "python3"
  },
  "language_info": {
   "codemirror_mode": {
    "name": "ipython",
    "version": 3
   },
   "file_extension": ".py",
   "mimetype": "text/x-python",
   "name": "python",
   "nbconvert_exporter": "python",
   "pygments_lexer": "ipython3",
   "version": "3.8.5"
  }
 },
 "nbformat": 4,
 "nbformat_minor": 4
}
